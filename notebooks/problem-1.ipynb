{
 "cells": [
  {
   "cell_type": "code",
   "execution_count": null,
   "metadata": {
    "vscode": {
     "languageId": "sage"
    }
   },
   "outputs": [
    {
     "name": "stdout",
     "output_type": "stream",
     "text": [
      "Graph G (order 5) is bipartite.\n",
      "Bipartition of vertices:\n",
      "Set A (even-indexed vertices): {0, 2, 4}\n",
      "Set B (odd-indexed vertices): {1, 3}\n"
     ]
    },
    {
     "data": {
      "image/png": "[encoded data removed]",
      "text/plain": [
       "Graphics object consisting of 10 graphics primitives"
      ]
     },
     "metadata": {},
     "output_type": "display_data"
    }
   ],
   "source": [
    "n = 5\n",
    "G = graphs.PathGraph(n)\n",
    "\n",
    "if G.is_bipartite():\n",
    "    print(f\"Graph G (order {n}) is bipartite.\")\n",
    "    \n",
    "    # Obtain and print the bipartition of the graph\n",
    "    bipartition = G.bipartite_sets()\n",
    "    print(\"Bipartition of vertices:\")\n",
    "    print(\"Set A (even-indexed vertices):\", bipartition[0])\n",
    "    print(\"Set B (odd-indexed vertices):\", bipartition[1])\n",
    "\n",
    "    # Show the graph, with color-coded vertices for sets \"A\" and \"B\"\n",
    "    v_order = list(G.vertices())\n",
    "    vcolors = [\"red\" if v % 2 == 0 else \"aqua\" for v in v_order]\n",
    "    G.graphplot(vertex_labels=True, vertex_color=vcolors).show()\n",
    "else:\n",
    "    print(f\"Graph G (order {n}) is not bipartite.\")"
   ]
  }
 ],
 "metadata": {
  "kernelspec": {
   "display_name": "SageMath 10.5",
   "language": "sage",
   "name": "sagemath"
  },
  "language_info": {
   "codemirror_mode": {
    "name": "ipython",
    "version": 3
   },
   "file_extension": ".py",
   "mimetype": "text/x-python",
   "name": "python",
   "nbconvert_exporter": "python",
   "pygments_lexer": "ipython3",
   "version": "3.12.5"
  }
 },
 "nbformat": 4,
 "nbformat_minor": 2
}
