{
 "cells": [
  {
   "cell_type": "markdown",
   "metadata": {},
   "source": [
    "## **Formal Proof**\n",
    "\n",
    "### **Question 2**\n",
    "Note that if $G$ is a graph, then $\\sum_{v \\in V(G)} d_G(v) = 2|E(G)|$ (i.e., the sum of the degrees of the vertices of $G$ is equal to twice the number of edges in $G$). Recall that a tree of order $n$ has $n - 1$ edges. Suppose $T$ is a tree of order $n$ having one vertex of each degree $i$ with $2 \\leq i \\leq k$. The remaining $n - k + 1$ vertices are leaves. Determine $n$ in terms of $k$.\n",
    "\n",
    "#### Direct Proof\n",
    "\n",
    "Let $V$ be the vertex set of the graph, and $E$ be its edge set. Since we have vertices of degree $2,3,\\dots,k$, and every other vertex has degree $1$, we see that we have $k-1$ non-leaves and $n-(k-1) = n-k+1$ leaves.\n",
    "\n",
    "Put another way, we have $n-k+1$ leaves in $L \\subseteq V$, and $k-1$ other vertices in $V \\setminus L \\subseteq V$. Then:\n",
    "\n",
    "$$\n",
    "2|E| =\n",
    "\\sum_{v\\in V}d(v) =\n",
    "\\sum_{v\\in L}d(v) + \\sum_{v\\in V\\setminus L}d(v) =\n",
    "(n - k + 1) + (2 + 3 + 4 + ... + k)\n",
    "$$\n",
    "\n",
    "$$\n",
    "=\n",
    "n + (1 + 2 + 3 + 4 + ... + (k-1))\n",
    "$$\n",
    "\n",
    "Recall that:\n",
    "\n",
    "$$\n",
    "1+2+3+\\dots+j = \\frac{j(j+1)}{2}\n",
    "$$\n",
    "\n",
    "Therefore, we have:\n",
    "\n",
    "$$\n",
    "2|E| = n + \\frac{(k-1)(k-1+1)}{2} = n + \\frac{(k-1)(k)}{2}\n",
    "$$ \n",
    "\n",
    "Since it is true for every tree that $|E| = n-1$, we get:\n",
    "\n",
    "$$\n",
    "2(n-1) = n + \\frac{(k-1)(k)}{2}\n",
    "$$\n",
    "\n",
    "$$\n",
    "2n - 2 = n + \\frac{(k-1)(k)}{2}\n",
    "$$\n",
    "\n",
    "$$\n",
    "n = 2 + \\frac{(k-1)(k)}{2}\n",
    "$$\n",
    "\n",
    "Alternatively, we can leave:\n",
    "\n",
    "$$\n",
    "2|E|= n + (1 + 2 + 3 + 4 + ... + (k-1))\n",
    "$$\n",
    "\n",
    "$$\n",
    "2n-2 = n + (1 + 2 + 3 + 4 + ... + (k-1))\n",
    "$$\n",
    "\n",
    "$$\n",
    "n = 2 + (1 + 2 + 3 + 4 + ... + (k-1))\n",
    "$$\n",
    "\n",
    "$$\n",
    "n = 3 + 2 + 3 + 4 + ... + (k-1)\n",
    "$$\n"
   ]
  },
  {
   "cell_type": "markdown",
   "metadata": {},
   "source": [
    "## **Code Demonstration**"
   ]
  },
  {
   "cell_type": "code",
   "execution_count": 19,
   "metadata": {
    "vscode": {
     "languageId": "sage"
    }
   },
   "outputs": [
    {
     "name": "stdout",
     "output_type": "stream",
     "text": [
      "k = 5 has 12 vertices!\n"
     ]
    },
    {
     "data": {
      "image/png": "[encoded data removed]",
      "text/plain": [
       "Graphics object consisting of 24 graphics primitives"
      ]
     },
     "metadata": {},
     "output_type": "display_data"
    }
   ],
   "source": [
    "# Input k value here\n",
    "k = 5\n",
    "\n",
    "g = Graph()\n",
    "n = 0\n",
    "# From \"k - 1\" to \"1 (inclusive)\", decrementing by 1\n",
    "for e in range(k - 1, 1, -1):\n",
    "    root = n\n",
    "    for _ in range(e):\n",
    "        g.add_edge(root, (n := n + 1))\n",
    "g.add_edge(n, (n := n + 1))\n",
    "g.add_edge(0, (n := n + 1))\n",
    "\n",
    "print(f\"k = {k} has {n + 1} vertices!\") \n",
    "show(g)"
   ]
  }
 ],
 "metadata": {
  "kernelspec": {
   "display_name": "SageMath 10.5",
   "language": "sage",
   "name": "sagemath"
  },
  "language_info": {
   "codemirror_mode": {
    "name": "ipython",
    "version": 3
   },
   "file_extension": ".py",
   "mimetype": "text/x-python",
   "name": "python",
   "nbconvert_exporter": "python",
   "pygments_lexer": "ipython3",
   "version": "3.12.5"
  }
 },
 "nbformat": 4,
 "nbformat_minor": 2
}
